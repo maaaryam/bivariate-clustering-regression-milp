{
  "cells": [
    {
      "cell_type": "code",
      "execution_count": 23,
      "metadata": {
        "colab": {
          "base_uri": "https://localhost:8080/"
        },
        "id": "D6Avz9cT4ETd",
        "outputId": "458108db-e470-4e87-d085-5b9d13ddeb92"
      },
      "outputs": [],
      "source": [
        "# import block\n",
        "import pandas as pd\n",
        "import numpy as np\n",
        "import pyomo.environ as pyo\n",
        "import matplotlib.pyplot as plt"
      ]
    },
    {
      "cell_type": "code",
      "execution_count": 24,
      "metadata": {
        "colab": {
          "base_uri": "https://localhost:8080/"
        },
        "id": "K2WWUrUP2wlX",
        "outputId": "206fdc6b-9410-43cb-9340-868bee10a52a"
      },
      "outputs": [],
      "source": [
        "# load raw train data\n",
        "# parse data\n",
        "data = None\n",
        "try:\n",
        "    with open('data/DebrisFlow.txt', 'r') as f:\n",
        "        data = f.read()\n",
        "except:\n",
        "    print('Error reading file')\n",
        "if data is not None:\n",
        "    # split data into lines\n",
        "    data = data.split('\\n')\n",
        "    # remove empty lines\n",
        "    data = [line for line in data if line != '']\n",
        "    # split lines into columns\n",
        "    data = [line.split('\\t') for line in data]\n",
        "    # convert to numpy array\n",
        "    data = np.array(data, dtype=np.float64)"
      ]
    },
    {
      "cell_type": "code",
      "execution_count": null,
      "metadata": {},
      "outputs": [],
      "source": [
        "# function to plot the model results\n",
        "def plot_model_results(data: np.ndarray, c_res: list, d_res: list, delta_res: list = None):\n",
        "    '''\n",
        "     Plots the model results against the data\n",
        "\n",
        "     IMPORTANT\n",
        "     ---------\n",
        "     provide c, d and delta values in a list even if there is only one value\n",
        "\n",
        "     Parameters\n",
        "     ==========\n",
        "          - data: the data to plot\n",
        "          - c_res: the c results (slope)\n",
        "          - d_res: the d results (intercept)\n",
        "          - delta_res: the delta results (segment number for each data point)\n",
        "\n",
        "     Returns\n",
        "     =======\n",
        "     None\n",
        "    '''\n",
        "\n",
        "    fig = plt.figure(figsize=(10, 5))\n",
        "    if delta_res is None:\n",
        "      plt.plot(data[:,0], data[:,1], 'k.')\n",
        "      plt.plot(data[:,0], [c_res[0]*data[i,0]+d_res[0] for i in range(data.shape[0])])\n",
        "    else:\n",
        "      colors = ['r', 'g', 'b', 'c', 'm', 'y', 'k']\n",
        "      marker_options = ['o', 'v', '^', 's', 'p', '*', '+', 'x']\n",
        "      segment_list = np.unique(delta_res)\n",
        "      data_length = data.shape[0]\n",
        "\n",
        "      y_pred = [[c_res[b]*data[i,0]+d_res[b] for i in range(data_length)] for b in segment_list]\n",
        "      x_segmented = {b:[] for b in segment_list}\n",
        "      y_true_segmented = {b:[] for b in segment_list}\n",
        "      y_pred_segmented = {b:[] for b in segment_list}\n",
        "\n",
        "      for i in range(data_length):\n",
        "        segment = delta_res[i]\n",
        "        x_segmented[segment].append(data[i,0])\n",
        "        y_true_segmented[segment].append(data[i,1])\n",
        "        y_pred_segmented[segment].append(c_res[segment]*data[i,0] + d_res[segment])\n",
        "\n",
        "      # plot the model results\n",
        "      # plot the data\n",
        "      for segment in x_segmented.keys():\n",
        "          plt.plot(x_segmented[segment],y_true_segmented[segment], color='k',linewidth=0, marker=marker_options[segment], markerfacecolor='none')\n",
        "      for y in y_pred:\n",
        "          plt.plot(data[:,0],y, linestyle='--', linewidth=0.5, color='k')\n",
        "      # plot the model results\n",
        "      for segment in x_segmented.keys():\n",
        "          plt.plot(x_segmented[segment], y_pred_segmented[segment],color = colors[segment], linestyle='-', linewidth=1,\n",
        "                  label=f'Model Results for segment {segment}')\n",
        "\n",
        "    plt.xlabel('Distance (m)')\n",
        "    plt.ylabel('Debris Flow (m)')\n",
        "    # set the legend\n",
        "    plt.legend()\n",
        "    # show the plot\n",
        "    plt.show()"
      ]
    }
  ],
  "metadata": {
    "colab": {
      "provenance": []
    },
    "kernelspec": {
      "display_name": "Python 3",
      "name": "python3"
    },
    "language_info": {
      "name": "python"
    }
  },
  "nbformat": 4,
  "nbformat_minor": 0
}
