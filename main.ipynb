{
  "cells": [
    {
      "cell_type": "code",
      "execution_count": 23,
      "metadata": {
        "colab": {
          "base_uri": "https://localhost:8080/"
        },
        "id": "D6Avz9cT4ETd",
        "outputId": "458108db-e470-4e87-d085-5b9d13ddeb92"
      },
      "outputs": [],
      "source": [
        "# import block\n",
        "import pandas as pd\n",
        "import numpy as np\n",
        "import pyomo.environ as pyo\n",
        "import matplotlib.pyplot as plt"
      ]
    },
    {
      "cell_type": "code",
      "execution_count": 24,
      "metadata": {
        "colab": {
          "base_uri": "https://localhost:8080/"
        },
        "id": "K2WWUrUP2wlX",
        "outputId": "206fdc6b-9410-43cb-9340-868bee10a52a"
      },
      "outputs": [],
      "source": [
        "# load raw train data\n",
        "# parse data\n",
        "data = None\n",
        "try:\n",
        "    with open('data/DebrisFlow.txt', 'r') as f:\n",
        "        data = f.read()\n",
        "except:\n",
        "    print('Error reading file')\n",
        "if data is not None:\n",
        "    # split data into lines\n",
        "    data = data.split('\\n')\n",
        "    # remove empty lines\n",
        "    data = [line for line in data if line != '']\n",
        "    # split lines into columns\n",
        "    data = [line.split('\\t') for line in data]\n",
        "    # convert to numpy array\n",
        "    data = np.array(data, dtype=np.float64)"
      ]
    }
  ],
  "metadata": {
    "colab": {
      "provenance": []
    },
    "kernelspec": {
      "display_name": "Python 3",
      "name": "python3"
    },
    "language_info": {
      "name": "python"
    }
  },
  "nbformat": 4,
  "nbformat_minor": 0
}
