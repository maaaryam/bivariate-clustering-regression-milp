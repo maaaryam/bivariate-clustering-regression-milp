{
  "cells": [
    {
      "cell_type": "code",
      "execution_count": 23,
      "metadata": {
        "colab": {
          "base_uri": "https://localhost:8080/"
        },
        "id": "D6Avz9cT4ETd",
        "outputId": "458108db-e470-4e87-d085-5b9d13ddeb92"
      },
      "outputs": [],
      "source": [
        "# import block\n",
        "import pandas as pd\n",
        "import numpy as np\n",
        "import pyomo.environ as pyo\n",
        "import matplotlib.pyplot as plt"
      ]
    },
    {
      "cell_type": "code",
      "execution_count": 24,
      "metadata": {
        "colab": {
          "base_uri": "https://localhost:8080/"
        },
        "id": "K2WWUrUP2wlX",
        "outputId": "206fdc6b-9410-43cb-9340-868bee10a52a"
      },
      "outputs": [],
      "source": [
        "# load raw train data\n",
        "# parse data\n",
        "data = None\n",
        "try:\n",
        "    with open('data/DebrisFlow.txt', 'r') as f:\n",
        "        data = f.read()\n",
        "except:\n",
        "    print('Error reading file')\n",
        "if data is not None:\n",
        "    # split data into lines\n",
        "    data = data.split('\\n')\n",
        "    # remove empty lines\n",
        "    data = [line for line in data if line != '']\n",
        "    # split lines into columns\n",
        "    data = [line.split('\\t') for line in data]\n",
        "    # convert to numpy array\n",
        "    data = np.array(data, dtype=np.float64)"
      ]
    },
    {
      "cell_type": "code",
      "execution_count": null,
      "metadata": {},
      "outputs": [],
      "source": [
        "# function to plot the model results\n",
        "def plot_model_results(data: np.ndarray, c_res: list, d_res: list, delta_res: list = None):\n",
        "    '''\n",
        "     Plots the model results against the data\n",
        "\n",
        "     IMPORTANT\n",
        "     ---------\n",
        "     provide c, d and delta values in a list even if there is only one value\n",
        "\n",
        "     Parameters\n",
        "     ==========\n",
        "          - data: the data to plot\n",
        "          - c_res: the c results (slope)\n",
        "          - d_res: the d results (intercept)\n",
        "          - delta_res: the delta results (segment number for each data point)\n",
        "\n",
        "     Returns\n",
        "     =======\n",
        "     None\n",
        "    '''\n",
        "\n",
        "    fig = plt.figure(figsize=(10, 5))\n",
        "    if delta_res is None:\n",
        "      plt.plot(data[:,0], data[:,1], 'k.')\n",
        "      plt.plot(data[:,0], [c_res[0]*data[i,0]+d_res[0] for i in range(data.shape[0])])\n",
        "    else:\n",
        "      colors = ['r', 'g', 'b', 'c', 'm', 'y', 'k']\n",
        "      marker_options = ['o', 'v', '^', 's', 'p', '*', '+', 'x']\n",
        "      segment_list = np.unique(delta_res)\n",
        "      data_length = data.shape[0]\n",
        "\n",
        "      y_pred = [[c_res[b]*data[i,0]+d_res[b] for i in range(data_length)] for b in segment_list]\n",
        "      x_segmented = {b:[] for b in segment_list}\n",
        "      y_true_segmented = {b:[] for b in segment_list}\n",
        "      y_pred_segmented = {b:[] for b in segment_list}\n",
        "\n",
        "      for i in range(data_length):\n",
        "        segment = delta_res[i]\n",
        "        x_segmented[segment].append(data[i,0])\n",
        "        y_true_segmented[segment].append(data[i,1])\n",
        "        y_pred_segmented[segment].append(c_res[segment]*data[i,0] + d_res[segment])\n",
        "\n",
        "      # plot the model results\n",
        "      # plot the data\n",
        "      for segment in x_segmented.keys():\n",
        "          plt.plot(x_segmented[segment],y_true_segmented[segment], color='k',linewidth=0, marker=marker_options[segment], markerfacecolor='none')\n",
        "      for y in y_pred:\n",
        "          plt.plot(data[:,0],y, linestyle='--', linewidth=0.5, color='k')\n",
        "      # plot the model results\n",
        "      for segment in x_segmented.keys():\n",
        "          plt.plot(x_segmented[segment], y_pred_segmented[segment],color = colors[segment], linestyle='-', linewidth=1,\n",
        "                  label=f'Model Results for segment {segment}')\n",
        "\n",
        "    plt.xlabel('Distance (m)')\n",
        "    plt.ylabel('Debris Flow (m)')\n",
        "    # set the legend\n",
        "    plt.legend()\n",
        "    # show the plot\n",
        "    plt.show()"
      ]
    },
    {
      "cell_type": "code",
      "execution_count": null,
      "metadata": {},
      "outputs": [
        {
          "name": "stdout",
          "output_type": "stream",
          "text": [
            "Bounds for C (0.0, 0.2858829471413148)\n",
            "Bounds for D (-105.77653624065739, 37.16493733)\n"
          ]
        }
      ],
      "source": [
        "CBOUND = (min(abs((data[i, 1]-data[j, 1])/(data[i, 0]-data[j, 0]))\n",
        "              for i in range(data.shape[0]) for j in range(data.shape[0]) if i > j),\n",
        "          max(abs((data[i, 1]-data[j, 1])/(data[i, 0]-data[j, 0]))\n",
        "              for i in range(data.shape[0]) for j in range(data.shape[0]) if i > j)\n",
        "          )\n",
        "\n",
        "d_lower_list = [data[i, 1] - CBOUND[1]*data[i, 0]\n",
        "                for i in range(data.shape[0])]\n",
        "d_lower_list.extend([data[i, 1] - CBOUND[0]*data[i, 0]\n",
        "                    for i in range(data.shape[0])])\n",
        "\n",
        "d_upper_list = [data[i, 1] - CBOUND[0]*data[i, 0]\n",
        "                for i in range(data.shape[0])]\n",
        "d_upper_list.extend([data[i, 1] - CBOUND[1]*data[i, 0]\n",
        "                    for i in range(data.shape[0])])\n",
        "\n",
        "DBOUND = (min(d_lower_list), max(d_upper_list))\n",
        "\n",
        "print('Bounds for C', CBOUND)\n",
        "print('Bounds for D', DBOUND)\n",
        "M1 = [\n",
        "    max(\n",
        "        abs(data[i, 1]-CBOUND[1]*data[i, 0]-DBOUND[1]),\n",
        "        abs(data[i, 1]-CBOUND[0]*data[i, 0]-DBOUND[0]),\n",
        "        abs(data[i, 1]-CBOUND[0]*data[i, 0]-DBOUND[1]),\n",
        "        abs(data[i, 1]-CBOUND[1]*data[i, 0]-DBOUND[0]))\n",
        "    for i in range(data.shape[0])\n",
        "]\n",
        "\n",
        "M2=[(DBOUND[1] - DBOUND[0] - data[i,0]*(CBOUND[0]-CBOUND[1])) for i in range(data.shape[0])]"
      ]
    },
    {
      "attachments": {},
      "cell_type": "markdown",
      "metadata": {},
      "source": [
        "# Models\n",
        "\n",
        "### Model 1: Linear Regression\n",
        "This model represents a simple classic linear regression with mean absolute error as measure for loss."
      ]
    },
    {
      "cell_type": "code",
      "execution_count": null,
      "metadata": {},
      "outputs": [
        {
          "name": "stderr",
          "output_type": "stream",
          "text": [
            "No artists with labels found to put in legend.  Note that artists whose label start with an underscore are ignored when legend() is called with no argument.\n"
          ]
        },
        {
          "data": {
            "image/png": "[encoded data removed]",
            "text/plain": [
              "<Figure size 1000x500 with 1 Axes>"
            ]
          },
          "metadata": {},
          "output_type": "display_data"
        }
      ],
      "source": [
        "# standard model for linear regression P17top section2\n",
        "model = pyo.ConcreteModel()\n",
        "\n",
        "# sets\n",
        "model.add_component('I', pyo.Set(initialize=range(data.shape[0])))\n",
        "\n",
        "# define the variables\n",
        "model.add_component('ksi', pyo.Var(model.I, domain=pyo.NonNegativeReals))\n",
        "model.add_component('c', pyo.Var(domain=pyo.Reals, bounds=CBOUND))\n",
        "model.add_component('d', pyo.Var(domain=pyo.Reals, bounds=DBOUND))\n",
        "\n",
        "# define the objective function\n",
        "\n",
        "\n",
        "def obj_func_rule(model):\n",
        "    return sum((model.ksi[i] for i in model.I))\n",
        "\n",
        "\n",
        "model.add_component('obj_func', pyo.Objective(\n",
        "    rule=obj_func_rule, sense=pyo.minimize))\n",
        "\n",
        "# define the constraints\n",
        "\n",
        "\n",
        "def constr1_rule(model, i):\n",
        "    return data[i, 1] - model.c*data[i, 0] - model.d <= model.ksi[i]\n",
        "\n",
        "\n",
        "model.add_component('constr1', pyo.Constraint(model.I, rule=constr1_rule))\n",
        "\n",
        "\n",
        "def constr2_rule(model, i):\n",
        "    return model.c*data[i, 0] + model.d - data[i, 1] <= model.ksi[i]\n",
        "\n",
        "\n",
        "model.add_component('constr2', pyo.Constraint(model.I, rule=constr2_rule))\n",
        "\n",
        "# solve the model\n",
        "solver = pyo.SolverFactory('glpk')\n",
        "results = solver.solve(model)\n",
        "\n",
        "# plot the results\n",
        "plot_model_results(data, [pyo.value(model.c)], [pyo.value(model.d)])"
      ]
    },
    {
      "attachments": {},
      "cell_type": "markdown",
      "metadata": {},
      "source": [
        "---\n",
        "### Model 2: Clusterwise Linear Regression (quadratically constrained convex)\n",
        "\n",
        "This model is a MILP simultaneously clusters the data and fits a linear regression model to each cluster."
      ]
    },
    {
      "cell_type": "code",
      "execution_count": null,
      "metadata": {},
      "outputs": [],
      "source": [
        "# model 2 P18top section2.1\n",
        "model = pyo.ConcreteModel()\n",
        "\n",
        "SEGMENT_COUNT = 1 # max resources limit\n",
        "\n",
        "# sets\n",
        "model.add_component('I', pyo.Set(initialize=range(data.shape[0])))\n",
        "model.add_component('B', pyo.Set(initialize=range(SEGMENT_COUNT)))\n",
        "\n",
        "# define the parameters\n",
        "model.add_component('M', pyo.Param(model.I, initialize=M1))\n",
        "\n",
        "# define the variables\n",
        "model.add_component('ksi', pyo.Var(model.I, domain=pyo.NonNegativeReals))\n",
        "model.add_component('delta', pyo.Var(model.I, model.B, domain=pyo.Binary))\n",
        "model.add_component('c', pyo.Var(model.B, domain=pyo.Reals, bounds=CBOUND))\n",
        "model.add_component('d', pyo.Var(model.B, domain=pyo.Reals, bounds=DBOUND))\n",
        "\n",
        "# define the objective functio\n",
        "def obj_func_rule(model):\n",
        "    return sum(model.ksi[i] for i in model.I)\n",
        "model.add_component('obj_func', pyo.Objective(\n",
        "    rule=obj_func_rule, sense=pyo.minimize))\n",
        "\n",
        "\n",
        "# define the constraints\n",
        "# absolute value constraint\n",
        "def con1_rule(model, i, b):\n",
        "    return data[i, 1] - (model.c[b] * data[i, 0] + model.d[b]) <= model.ksi[i] + model.M[i] * (1 - model.delta[i, b])\n",
        "model.con1 = pyo.Constraint(model.I, model.B, rule=con1_rule)\n",
        "\n",
        "def con2_rule(model, i, b):\n",
        "    return model.c[b] * data[i, 0] + model.d[b] - data[i, 1] <= model.ksi[i] + model.M[i] * (1 - model.delta[i, b])\n",
        "model.con2 = pyo.Constraint(model.I, model.B, rule=con2_rule)\n",
        "\n",
        "# cluster constraint\n",
        "def con3_rule(model, i):\n",
        "    return sum(model.delta[i, b] for b in model.B) == 1\n",
        "model.con3 = pyo.Constraint(model.I, rule=con3_rule)\n",
        "\n",
        "# minimum number of points in a cluster\n",
        "def con4_rule(model, b):\n",
        "    # let n (minimum number of points in a cluster) be 1\n",
        "    return sum(model.delta[i, b] for i in model.I) >= 1\n",
        "model.add_component('con4', pyo.Constraint(model.B, rule=con4_rule))\n",
        "\n",
        "# solve the model\n",
        "solver = pyo.SolverFactory('glpk')\n",
        "results = solver.solve(model)\n",
        "\n",
        "# plot the results\n",
        "plot_model_results(data, [pyo.value(model.c[b]) for b in model.B], [pyo.value(model.d[b]) for b in model.B], [\n",
        "                   b for b in model.B for i in model.I if pyo.value(model.delta[i, b]) == 1])"
      ]
    }
  ],
  "metadata": {
    "colab": {
      "provenance": []
    },
    "kernelspec": {
      "display_name": "Python 3",
      "name": "python3"
    },
    "language_info": {
      "name": "python"
    }
  },
  "nbformat": 4,
  "nbformat_minor": 0
}
